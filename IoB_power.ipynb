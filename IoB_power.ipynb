{
  "nbformat": 4,
  "nbformat_minor": 0,
  "metadata": {
    "colab": {
      "name": "Sum of IoB power",
      "provenance": [],
      "collapsed_sections": []
    },
    "kernelspec": {
      "name": "python3",
      "display_name": "Python 3"
    },
    "language_info": {
      "name": "python"
    }
  },
  "cells": [
    {
      "cell_type": "code",
      "metadata": {
        "id": "P_XTqUkvuDHQ"
      },
      "source": [
        "import pandas as pd"
      ],
      "execution_count": null,
      "outputs": []
    },
    {
      "cell_type": "code",
      "metadata": {
        "id": "khPEXXrdvh-Y"
      },
      "source": [
        "df = pd.read_csv('/content/drive/MyDrive/IoB power consumption/household_power_consumption.txt', sep=';', \n",
        "                 parse_dates={'dt' : ['Date', 'Time']}, infer_datetime_format=True, \n",
        "                 low_memory=False, na_values=['nan','?'], index_col='dt')"
      ],
      "execution_count": null,
      "outputs": []
    },
    {
      "cell_type": "code",
      "metadata": {
        "colab": {
          "base_uri": "https://localhost:8080/",
          "height": 236
        },
        "id": "viXl24v4vmNG",
        "outputId": "e65e5ded-4cba-420b-9250-2f6d3d5c99a3"
      },
      "source": [
        "df.head()"
      ],
      "execution_count": null,
      "outputs": [
        {
          "output_type": "execute_result",
          "data": {
            "text/html": [
              "<div>\n",
              "<style scoped>\n",
              "    .dataframe tbody tr th:only-of-type {\n",
              "        vertical-align: middle;\n",
              "    }\n",
              "\n",
              "    .dataframe tbody tr th {\n",
              "        vertical-align: top;\n",
              "    }\n",
              "\n",
              "    .dataframe thead th {\n",
              "        text-align: right;\n",
              "    }\n",
              "</style>\n",
              "<table border=\"1\" class=\"dataframe\">\n",
              "  <thead>\n",
              "    <tr style=\"text-align: right;\">\n",
              "      <th></th>\n",
              "      <th>Global_active_power</th>\n",
              "      <th>Global_reactive_power</th>\n",
              "      <th>Voltage</th>\n",
              "      <th>Global_intensity</th>\n",
              "      <th>Sub_metering_1</th>\n",
              "      <th>Sub_metering_2</th>\n",
              "      <th>Sub_metering_3</th>\n",
              "    </tr>\n",
              "    <tr>\n",
              "      <th>dt</th>\n",
              "      <th></th>\n",
              "      <th></th>\n",
              "      <th></th>\n",
              "      <th></th>\n",
              "      <th></th>\n",
              "      <th></th>\n",
              "      <th></th>\n",
              "    </tr>\n",
              "  </thead>\n",
              "  <tbody>\n",
              "    <tr>\n",
              "      <th>2006-12-16 17:24:00</th>\n",
              "      <td>4.216</td>\n",
              "      <td>0.418</td>\n",
              "      <td>234.84</td>\n",
              "      <td>18.4</td>\n",
              "      <td>0.0</td>\n",
              "      <td>1.0</td>\n",
              "      <td>17.0</td>\n",
              "    </tr>\n",
              "    <tr>\n",
              "      <th>2006-12-16 17:25:00</th>\n",
              "      <td>5.360</td>\n",
              "      <td>0.436</td>\n",
              "      <td>233.63</td>\n",
              "      <td>23.0</td>\n",
              "      <td>0.0</td>\n",
              "      <td>1.0</td>\n",
              "      <td>16.0</td>\n",
              "    </tr>\n",
              "    <tr>\n",
              "      <th>2006-12-16 17:26:00</th>\n",
              "      <td>5.374</td>\n",
              "      <td>0.498</td>\n",
              "      <td>233.29</td>\n",
              "      <td>23.0</td>\n",
              "      <td>0.0</td>\n",
              "      <td>2.0</td>\n",
              "      <td>17.0</td>\n",
              "    </tr>\n",
              "    <tr>\n",
              "      <th>2006-12-16 17:27:00</th>\n",
              "      <td>5.388</td>\n",
              "      <td>0.502</td>\n",
              "      <td>233.74</td>\n",
              "      <td>23.0</td>\n",
              "      <td>0.0</td>\n",
              "      <td>1.0</td>\n",
              "      <td>17.0</td>\n",
              "    </tr>\n",
              "    <tr>\n",
              "      <th>2006-12-16 17:28:00</th>\n",
              "      <td>3.666</td>\n",
              "      <td>0.528</td>\n",
              "      <td>235.68</td>\n",
              "      <td>15.8</td>\n",
              "      <td>0.0</td>\n",
              "      <td>1.0</td>\n",
              "      <td>17.0</td>\n",
              "    </tr>\n",
              "  </tbody>\n",
              "</table>\n",
              "</div>"
            ],
            "text/plain": [
              "                     Global_active_power  ...  Sub_metering_3\n",
              "dt                                        ...                \n",
              "2006-12-16 17:24:00                4.216  ...            17.0\n",
              "2006-12-16 17:25:00                5.360  ...            16.0\n",
              "2006-12-16 17:26:00                5.374  ...            17.0\n",
              "2006-12-16 17:27:00                5.388  ...            17.0\n",
              "2006-12-16 17:28:00                3.666  ...            17.0\n",
              "\n",
              "[5 rows x 7 columns]"
            ]
          },
          "metadata": {
            "tags": []
          },
          "execution_count": 14
        }
      ]
    },
    {
      "cell_type": "code",
      "metadata": {
        "colab": {
          "base_uri": "https://localhost:8080/"
        },
        "id": "-ZWLTPSHunm3",
        "outputId": "3920f772-ecc2-4b6b-f194-f2c26ca4a1a2"
      },
      "source": [
        "df.count()"
      ],
      "execution_count": null,
      "outputs": [
        {
          "output_type": "execute_result",
          "data": {
            "text/plain": [
              "Global_active_power      2049280\n",
              "Global_reactive_power    2049280\n",
              "Voltage                  2049280\n",
              "Global_intensity         2049280\n",
              "Sub_metering_1           2049280\n",
              "Sub_metering_2           2049280\n",
              "Sub_metering_3           2049280\n",
              "dtype: int64"
            ]
          },
          "metadata": {
            "tags": []
          },
          "execution_count": 15
        }
      ]
    },
    {
      "cell_type": "code",
      "metadata": {
        "id": "0JFkQXVrvv-1"
      },
      "source": [
        "values = df.values.astype('float32')\n",
        "df['sub_metering_4'] = (values[:,0] * 1000 / 60) - (values[:,4] + values[:,5] + values[:,6])\n",
        "df['ds']=df.index\n",
        "df[\"day_name\"]= df['ds'].dt.day_name()\n",
        "#del df.ds"
      ],
      "execution_count": null,
      "outputs": []
    },
    {
      "cell_type": "code",
      "metadata": {
        "id": "Y-iHwC5kHIpH"
      },
      "source": [
        "df.drop(['ds'], axis=1, inplace=True)"
      ],
      "execution_count": null,
      "outputs": []
    },
    {
      "cell_type": "code",
      "metadata": {
        "colab": {
          "base_uri": "https://localhost:8080/",
          "height": 236
        },
        "id": "59ZX0iQtvyMX",
        "outputId": "88f30025-a7b5-469a-deb2-b6ee6de9fb96"
      },
      "source": [
        "df.head() "
      ],
      "execution_count": null,
      "outputs": [
        {
          "output_type": "execute_result",
          "data": {
            "text/html": [
              "<div>\n",
              "<style scoped>\n",
              "    .dataframe tbody tr th:only-of-type {\n",
              "        vertical-align: middle;\n",
              "    }\n",
              "\n",
              "    .dataframe tbody tr th {\n",
              "        vertical-align: top;\n",
              "    }\n",
              "\n",
              "    .dataframe thead th {\n",
              "        text-align: right;\n",
              "    }\n",
              "</style>\n",
              "<table border=\"1\" class=\"dataframe\">\n",
              "  <thead>\n",
              "    <tr style=\"text-align: right;\">\n",
              "      <th></th>\n",
              "      <th>Global_active_power</th>\n",
              "      <th>Global_reactive_power</th>\n",
              "      <th>Voltage</th>\n",
              "      <th>Global_intensity</th>\n",
              "      <th>Sub_metering_1</th>\n",
              "      <th>Sub_metering_2</th>\n",
              "      <th>Sub_metering_3</th>\n",
              "      <th>sub_metering_4</th>\n",
              "      <th>day_name</th>\n",
              "    </tr>\n",
              "    <tr>\n",
              "      <th>dt</th>\n",
              "      <th></th>\n",
              "      <th></th>\n",
              "      <th></th>\n",
              "      <th></th>\n",
              "      <th></th>\n",
              "      <th></th>\n",
              "      <th></th>\n",
              "      <th></th>\n",
              "      <th></th>\n",
              "    </tr>\n",
              "  </thead>\n",
              "  <tbody>\n",
              "    <tr>\n",
              "      <th>2006-12-16 17:24:00</th>\n",
              "      <td>4.216</td>\n",
              "      <td>0.418</td>\n",
              "      <td>234.84</td>\n",
              "      <td>18.4</td>\n",
              "      <td>0.0</td>\n",
              "      <td>1.0</td>\n",
              "      <td>17.0</td>\n",
              "      <td>52.266670</td>\n",
              "      <td>Saturday</td>\n",
              "    </tr>\n",
              "    <tr>\n",
              "      <th>2006-12-16 17:25:00</th>\n",
              "      <td>5.360</td>\n",
              "      <td>0.436</td>\n",
              "      <td>233.63</td>\n",
              "      <td>23.0</td>\n",
              "      <td>0.0</td>\n",
              "      <td>1.0</td>\n",
              "      <td>16.0</td>\n",
              "      <td>72.333336</td>\n",
              "      <td>Saturday</td>\n",
              "    </tr>\n",
              "    <tr>\n",
              "      <th>2006-12-16 17:26:00</th>\n",
              "      <td>5.374</td>\n",
              "      <td>0.498</td>\n",
              "      <td>233.29</td>\n",
              "      <td>23.0</td>\n",
              "      <td>0.0</td>\n",
              "      <td>2.0</td>\n",
              "      <td>17.0</td>\n",
              "      <td>70.566666</td>\n",
              "      <td>Saturday</td>\n",
              "    </tr>\n",
              "    <tr>\n",
              "      <th>2006-12-16 17:27:00</th>\n",
              "      <td>5.388</td>\n",
              "      <td>0.502</td>\n",
              "      <td>233.74</td>\n",
              "      <td>23.0</td>\n",
              "      <td>0.0</td>\n",
              "      <td>1.0</td>\n",
              "      <td>17.0</td>\n",
              "      <td>71.800003</td>\n",
              "      <td>Saturday</td>\n",
              "    </tr>\n",
              "    <tr>\n",
              "      <th>2006-12-16 17:28:00</th>\n",
              "      <td>3.666</td>\n",
              "      <td>0.528</td>\n",
              "      <td>235.68</td>\n",
              "      <td>15.8</td>\n",
              "      <td>0.0</td>\n",
              "      <td>1.0</td>\n",
              "      <td>17.0</td>\n",
              "      <td>43.099998</td>\n",
              "      <td>Saturday</td>\n",
              "    </tr>\n",
              "  </tbody>\n",
              "</table>\n",
              "</div>"
            ],
            "text/plain": [
              "                     Global_active_power  ...  day_name\n",
              "dt                                        ...          \n",
              "2006-12-16 17:24:00                4.216  ...  Saturday\n",
              "2006-12-16 17:25:00                5.360  ...  Saturday\n",
              "2006-12-16 17:26:00                5.374  ...  Saturday\n",
              "2006-12-16 17:27:00                5.388  ...  Saturday\n",
              "2006-12-16 17:28:00                3.666  ...  Saturday\n",
              "\n",
              "[5 rows x 9 columns]"
            ]
          },
          "metadata": {
            "tags": []
          },
          "execution_count": 18
        }
      ]
    },
    {
      "cell_type": "code",
      "metadata": {
        "colab": {
          "base_uri": "https://localhost:8080/"
        },
        "id": "USS0Zd9av3kj",
        "outputId": "eacb57bb-688e-4559-d5fb-d2e8c9a67c1a"
      },
      "source": [
        "droping_list_all=[]\n",
        "for j in range(0,9):\n",
        "    if not df.iloc[:, j].notnull().all():\n",
        "        droping_list_all.append(j)        \n",
        "        #print(df.iloc[:,j].unique())\n",
        "droping_list_all"
      ],
      "execution_count": null,
      "outputs": [
        {
          "output_type": "execute_result",
          "data": {
            "text/plain": [
              "[0, 1, 2, 3, 4, 5, 6, 7]"
            ]
          },
          "metadata": {
            "tags": []
          },
          "execution_count": 19
        }
      ]
    },
    {
      "cell_type": "code",
      "metadata": {
        "id": "je6LJCQJv3sD"
      },
      "source": [
        "for j in range(0,8):        \n",
        "        df.iloc[:,j]=df.iloc[:,j].fillna(df.iloc[:,j].mean())"
      ],
      "execution_count": null,
      "outputs": []
    },
    {
      "cell_type": "code",
      "metadata": {
        "colab": {
          "base_uri": "https://localhost:8080/"
        },
        "id": "oPoZrZb5v78i",
        "outputId": "be90ea1d-71fc-4135-cc0c-4c5f1ec58fc8"
      },
      "source": [
        "df.isnull().sum()"
      ],
      "execution_count": null,
      "outputs": [
        {
          "output_type": "execute_result",
          "data": {
            "text/plain": [
              "Global_active_power      0\n",
              "Global_reactive_power    0\n",
              "Voltage                  0\n",
              "Global_intensity         0\n",
              "Sub_metering_1           0\n",
              "Sub_metering_2           0\n",
              "Sub_metering_3           0\n",
              "sub_metering_4           0\n",
              "day_name                 0\n",
              "dtype: int64"
            ]
          },
          "metadata": {
            "tags": []
          },
          "execution_count": 21
        }
      ]
    },
    {
      "cell_type": "code",
      "metadata": {
        "colab": {
          "base_uri": "https://localhost:8080/"
        },
        "id": "cxj8IFFjuxtz",
        "outputId": "53b81851-516e-485f-c0a8-971153e5a45e"
      },
      "source": [
        "df.count()"
      ],
      "execution_count": null,
      "outputs": [
        {
          "output_type": "execute_result",
          "data": {
            "text/plain": [
              "Global_active_power      2075259\n",
              "Global_reactive_power    2075259\n",
              "Voltage                  2075259\n",
              "Global_intensity         2075259\n",
              "Sub_metering_1           2075259\n",
              "Sub_metering_2           2075259\n",
              "Sub_metering_3           2075259\n",
              "sub_metering_4           2075259\n",
              "day_name                 2075259\n",
              "dtype: int64"
            ]
          },
          "metadata": {
            "tags": []
          },
          "execution_count": 22
        }
      ]
    },
    {
      "cell_type": "markdown",
      "metadata": {
        "id": "gGsSerqHPfqE"
      },
      "source": [
        "# LSTM"
      ]
    },
    {
      "cell_type": "code",
      "metadata": {
        "id": "CjKWoiIpPjwP"
      },
      "source": [
        "def series_to_supervised(data, n_in=1, n_out=1, dropnan=True):\n",
        "\tn_vars = 1 if type(data) is list else data.shape[1]\n",
        "\tdff = pd.DataFrame(data)\n",
        "\tcols, names = list(), list()\n",
        "\t# input sequence (t-n, ... t-1)\n",
        "\tfor i in range(n_in, 0, -1):\n",
        "\t\tcols.append(dff.shift(i))\n",
        "\t\tnames += [('var%d(t-%d)' % (j+1, i)) for j in range(n_vars)]\n",
        "\t# forecast sequence (t, t+1, ... t+n)\n",
        "\tfor i in range(0, n_out):\n",
        "\t\tcols.append(dff.shift(-i))\n",
        "\t\tif i == 0:\n",
        "\t\t\tnames += [('var%d(t)' % (j+1)) for j in range(n_vars)]\n",
        "\t\telse:\n",
        "\t\t\tnames += [('var%d(t+%d)' % (j+1, i)) for j in range(n_vars)]\n",
        "\t# put it all together\n",
        "\tagg = pd.concat(cols, axis=1)\n",
        "\tagg.columns = names\n",
        "\t# drop rows with NaN values\n",
        "\tif dropnan:\n",
        "\t\tagg.dropna(inplace=True)\n",
        "\treturn agg"
      ],
      "execution_count": null,
      "outputs": []
    },
    {
      "cell_type": "code",
      "metadata": {
        "colab": {
          "base_uri": "https://localhost:8080/"
        },
        "id": "T-SFaqJ2Trqp",
        "outputId": "39ea8227-dfed-41bd-cc04-3010468d934d"
      },
      "source": [
        "df_resample = df.resample('h').sum() \n",
        "df_resample.shape"
      ],
      "execution_count": null,
      "outputs": [
        {
          "output_type": "execute_result",
          "data": {
            "text/plain": [
              "(34589, 8)"
            ]
          },
          "metadata": {
            "tags": []
          },
          "execution_count": 24
        }
      ]
    },
    {
      "cell_type": "code",
      "metadata": {
        "colab": {
          "base_uri": "https://localhost:8080/",
          "height": 236
        },
        "id": "c2MzIJsGT0u6",
        "outputId": "288dc528-5cad-4e28-e92b-9dd3b6f28f47"
      },
      "source": [
        "df_resample.head()"
      ],
      "execution_count": null,
      "outputs": [
        {
          "output_type": "execute_result",
          "data": {
            "text/html": [
              "<div>\n",
              "<style scoped>\n",
              "    .dataframe tbody tr th:only-of-type {\n",
              "        vertical-align: middle;\n",
              "    }\n",
              "\n",
              "    .dataframe tbody tr th {\n",
              "        vertical-align: top;\n",
              "    }\n",
              "\n",
              "    .dataframe thead th {\n",
              "        text-align: right;\n",
              "    }\n",
              "</style>\n",
              "<table border=\"1\" class=\"dataframe\">\n",
              "  <thead>\n",
              "    <tr style=\"text-align: right;\">\n",
              "      <th></th>\n",
              "      <th>Global_active_power</th>\n",
              "      <th>Global_reactive_power</th>\n",
              "      <th>Voltage</th>\n",
              "      <th>Global_intensity</th>\n",
              "      <th>Sub_metering_1</th>\n",
              "      <th>Sub_metering_2</th>\n",
              "      <th>Sub_metering_3</th>\n",
              "      <th>sub_metering_4</th>\n",
              "    </tr>\n",
              "    <tr>\n",
              "      <th>dt</th>\n",
              "      <th></th>\n",
              "      <th></th>\n",
              "      <th></th>\n",
              "      <th></th>\n",
              "      <th></th>\n",
              "      <th></th>\n",
              "      <th></th>\n",
              "      <th></th>\n",
              "    </tr>\n",
              "  </thead>\n",
              "  <tbody>\n",
              "    <tr>\n",
              "      <th>2006-12-16 17:00:00</th>\n",
              "      <td>152.024</td>\n",
              "      <td>8.244</td>\n",
              "      <td>8447.18</td>\n",
              "      <td>651.6</td>\n",
              "      <td>0.0</td>\n",
              "      <td>19.0</td>\n",
              "      <td>607.0</td>\n",
              "      <td>1907.733398</td>\n",
              "    </tr>\n",
              "    <tr>\n",
              "      <th>2006-12-16 18:00:00</th>\n",
              "      <td>217.932</td>\n",
              "      <td>4.802</td>\n",
              "      <td>14074.81</td>\n",
              "      <td>936.0</td>\n",
              "      <td>0.0</td>\n",
              "      <td>403.0</td>\n",
              "      <td>1012.0</td>\n",
              "      <td>2217.199951</td>\n",
              "    </tr>\n",
              "    <tr>\n",
              "      <th>2006-12-16 19:00:00</th>\n",
              "      <td>204.014</td>\n",
              "      <td>5.114</td>\n",
              "      <td>13993.95</td>\n",
              "      <td>870.2</td>\n",
              "      <td>0.0</td>\n",
              "      <td>86.0</td>\n",
              "      <td>1001.0</td>\n",
              "      <td>2313.233398</td>\n",
              "    </tr>\n",
              "    <tr>\n",
              "      <th>2006-12-16 20:00:00</th>\n",
              "      <td>196.114</td>\n",
              "      <td>4.506</td>\n",
              "      <td>14044.29</td>\n",
              "      <td>835.0</td>\n",
              "      <td>0.0</td>\n",
              "      <td>0.0</td>\n",
              "      <td>1007.0</td>\n",
              "      <td>2261.566650</td>\n",
              "    </tr>\n",
              "    <tr>\n",
              "      <th>2006-12-16 21:00:00</th>\n",
              "      <td>183.388</td>\n",
              "      <td>4.600</td>\n",
              "      <td>14229.52</td>\n",
              "      <td>782.8</td>\n",
              "      <td>0.0</td>\n",
              "      <td>25.0</td>\n",
              "      <td>1033.0</td>\n",
              "      <td>1998.466675</td>\n",
              "    </tr>\n",
              "  </tbody>\n",
              "</table>\n",
              "</div>"
            ],
            "text/plain": [
              "                     Global_active_power  ...  sub_metering_4\n",
              "dt                                        ...                \n",
              "2006-12-16 17:00:00              152.024  ...     1907.733398\n",
              "2006-12-16 18:00:00              217.932  ...     2217.199951\n",
              "2006-12-16 19:00:00              204.014  ...     2313.233398\n",
              "2006-12-16 20:00:00              196.114  ...     2261.566650\n",
              "2006-12-16 21:00:00              183.388  ...     1998.466675\n",
              "\n",
              "[5 rows x 8 columns]"
            ]
          },
          "metadata": {
            "tags": []
          },
          "execution_count": 25
        }
      ]
    },
    {
      "cell_type": "code",
      "metadata": {
        "colab": {
          "base_uri": "https://localhost:8080/",
          "height": 143
        },
        "id": "tqd0__V4I09c",
        "outputId": "a5991c97-3abe-418f-909b-383dd1f989fe"
      },
      "source": [
        "df_resample[\"day_name\"]= df_resample.index.day_name()\n",
        "df_resample.head(2)"
      ],
      "execution_count": null,
      "outputs": [
        {
          "output_type": "execute_result",
          "data": {
            "text/html": [
              "<div>\n",
              "<style scoped>\n",
              "    .dataframe tbody tr th:only-of-type {\n",
              "        vertical-align: middle;\n",
              "    }\n",
              "\n",
              "    .dataframe tbody tr th {\n",
              "        vertical-align: top;\n",
              "    }\n",
              "\n",
              "    .dataframe thead th {\n",
              "        text-align: right;\n",
              "    }\n",
              "</style>\n",
              "<table border=\"1\" class=\"dataframe\">\n",
              "  <thead>\n",
              "    <tr style=\"text-align: right;\">\n",
              "      <th></th>\n",
              "      <th>Global_active_power</th>\n",
              "      <th>Global_reactive_power</th>\n",
              "      <th>Voltage</th>\n",
              "      <th>Global_intensity</th>\n",
              "      <th>Sub_metering_1</th>\n",
              "      <th>Sub_metering_2</th>\n",
              "      <th>Sub_metering_3</th>\n",
              "      <th>sub_metering_4</th>\n",
              "      <th>day_name</th>\n",
              "    </tr>\n",
              "    <tr>\n",
              "      <th>dt</th>\n",
              "      <th></th>\n",
              "      <th></th>\n",
              "      <th></th>\n",
              "      <th></th>\n",
              "      <th></th>\n",
              "      <th></th>\n",
              "      <th></th>\n",
              "      <th></th>\n",
              "      <th></th>\n",
              "    </tr>\n",
              "  </thead>\n",
              "  <tbody>\n",
              "    <tr>\n",
              "      <th>2006-12-16 17:00:00</th>\n",
              "      <td>152.024</td>\n",
              "      <td>8.244</td>\n",
              "      <td>8447.18</td>\n",
              "      <td>651.6</td>\n",
              "      <td>0.0</td>\n",
              "      <td>19.0</td>\n",
              "      <td>607.0</td>\n",
              "      <td>1907.733398</td>\n",
              "      <td>Saturday</td>\n",
              "    </tr>\n",
              "    <tr>\n",
              "      <th>2006-12-16 18:00:00</th>\n",
              "      <td>217.932</td>\n",
              "      <td>4.802</td>\n",
              "      <td>14074.81</td>\n",
              "      <td>936.0</td>\n",
              "      <td>0.0</td>\n",
              "      <td>403.0</td>\n",
              "      <td>1012.0</td>\n",
              "      <td>2217.199951</td>\n",
              "      <td>Saturday</td>\n",
              "    </tr>\n",
              "  </tbody>\n",
              "</table>\n",
              "</div>"
            ],
            "text/plain": [
              "                     Global_active_power  ...  day_name\n",
              "dt                                        ...          \n",
              "2006-12-16 17:00:00              152.024  ...  Saturday\n",
              "2006-12-16 18:00:00              217.932  ...  Saturday\n",
              "\n",
              "[2 rows x 9 columns]"
            ]
          },
          "metadata": {
            "tags": []
          },
          "execution_count": 26
        }
      ]
    },
    {
      "cell_type": "code",
      "metadata": {
        "colab": {
          "base_uri": "https://localhost:8080/",
          "height": 205
        },
        "id": "JKk1CyPpUJ2W",
        "outputId": "a29df59c-93fe-46fc-b2d5-9e6667b726fc"
      },
      "source": [
        "from sklearn.preprocessing import MinMaxScaler\n",
        "\n",
        "values = df_resample.values \n",
        "\n",
        "# frame as supervised learning\n",
        "reframed1 = series_to_supervised(df_resample, 1, 1)\n",
        "\n",
        "# drop columns we don't want to predict\n",
        "reframed2= reframed1.drop(reframed1.columns[[8,10,11,12,13,14,15,16,17]], axis=1)\n",
        "\n",
        "scaler = MinMaxScaler(feature_range=(0, 1))\n",
        "scaled = scaler.fit_transform(reframed2.values)\n",
        "reframed = pd.DataFrame(scaled, columns= [\"var1(t-1)\",\"var2(t-1)\",\"var3(t-1)\",\t\"var4(t-1)\",\t\"var5(t-1)\", \"var6(t-1)\",\"var7(t-1)\",\t\"var8(t-1)\",\t\"var1(t)\"])\n",
        "reframed.head()"
      ],
      "execution_count": null,
      "outputs": [
        {
          "output_type": "execute_result",
          "data": {
            "text/html": [
              "<div>\n",
              "<style scoped>\n",
              "    .dataframe tbody tr th:only-of-type {\n",
              "        vertical-align: middle;\n",
              "    }\n",
              "\n",
              "    .dataframe tbody tr th {\n",
              "        vertical-align: top;\n",
              "    }\n",
              "\n",
              "    .dataframe thead th {\n",
              "        text-align: right;\n",
              "    }\n",
              "</style>\n",
              "<table border=\"1\" class=\"dataframe\">\n",
              "  <thead>\n",
              "    <tr style=\"text-align: right;\">\n",
              "      <th></th>\n",
              "      <th>var1(t-1)</th>\n",
              "      <th>var2(t-1)</th>\n",
              "      <th>var3(t-1)</th>\n",
              "      <th>var4(t-1)</th>\n",
              "      <th>var5(t-1)</th>\n",
              "      <th>var6(t-1)</th>\n",
              "      <th>var7(t-1)</th>\n",
              "      <th>var8(t-1)</th>\n",
              "      <th>var1(t)</th>\n",
              "    </tr>\n",
              "  </thead>\n",
              "  <tbody>\n",
              "    <tr>\n",
              "      <th>0</th>\n",
              "      <td>0.374384</td>\n",
              "      <td>0.163471</td>\n",
              "      <td>0.000000</td>\n",
              "      <td>0.371473</td>\n",
              "      <td>0.0</td>\n",
              "      <td>0.006820</td>\n",
              "      <td>0.469451</td>\n",
              "      <td>0.479313</td>\n",
              "      <td>0.550442</td>\n",
              "    </tr>\n",
              "    <tr>\n",
              "      <th>1</th>\n",
              "      <td>0.545045</td>\n",
              "      <td>0.088127</td>\n",
              "      <td>0.844110</td>\n",
              "      <td>0.541487</td>\n",
              "      <td>0.0</td>\n",
              "      <td>0.144652</td>\n",
              "      <td>0.782676</td>\n",
              "      <td>0.560591</td>\n",
              "      <td>0.514830</td>\n",
              "    </tr>\n",
              "    <tr>\n",
              "      <th>2</th>\n",
              "      <td>0.509006</td>\n",
              "      <td>0.094957</td>\n",
              "      <td>0.831981</td>\n",
              "      <td>0.502152</td>\n",
              "      <td>0.0</td>\n",
              "      <td>0.030869</td>\n",
              "      <td>0.774169</td>\n",
              "      <td>0.585814</td>\n",
              "      <td>0.494617</td>\n",
              "    </tr>\n",
              "    <tr>\n",
              "      <th>3</th>\n",
              "      <td>0.488550</td>\n",
              "      <td>0.081648</td>\n",
              "      <td>0.839532</td>\n",
              "      <td>0.481110</td>\n",
              "      <td>0.0</td>\n",
              "      <td>0.000000</td>\n",
              "      <td>0.778809</td>\n",
              "      <td>0.572244</td>\n",
              "      <td>0.462055</td>\n",
              "    </tr>\n",
              "    <tr>\n",
              "      <th>4</th>\n",
              "      <td>0.455597</td>\n",
              "      <td>0.083705</td>\n",
              "      <td>0.867315</td>\n",
              "      <td>0.449904</td>\n",
              "      <td>0.0</td>\n",
              "      <td>0.008973</td>\n",
              "      <td>0.798917</td>\n",
              "      <td>0.503143</td>\n",
              "      <td>0.330590</td>\n",
              "    </tr>\n",
              "  </tbody>\n",
              "</table>\n",
              "</div>"
            ],
            "text/plain": [
              "   var1(t-1)  var2(t-1)  var3(t-1)  ...  var7(t-1)  var8(t-1)   var1(t)\n",
              "0   0.374384   0.163471   0.000000  ...   0.469451   0.479313  0.550442\n",
              "1   0.545045   0.088127   0.844110  ...   0.782676   0.560591  0.514830\n",
              "2   0.509006   0.094957   0.831981  ...   0.774169   0.585814  0.494617\n",
              "3   0.488550   0.081648   0.839532  ...   0.778809   0.572244  0.462055\n",
              "4   0.455597   0.083705   0.867315  ...   0.798917   0.503143  0.330590\n",
              "\n",
              "[5 rows x 9 columns]"
            ]
          },
          "metadata": {
            "tags": []
          },
          "execution_count": 27
        }
      ]
    },
    {
      "cell_type": "code",
      "metadata": {
        "colab": {
          "base_uri": "https://localhost:8080/"
        },
        "id": "0FHO09vhh9CC",
        "outputId": "0c66eee9-5abd-4e58-bd35-6668170da26d"
      },
      "source": [
        "# split into train and test sets\n",
        "values = reframed.values\n",
        "\n",
        "n_train_time = 365*2*24\n",
        "train = values[:n_train_time, :]\n",
        "test = values[n_train_time:, :]\n",
        "\n",
        "##test = values[n_train_time:n_test_time, :]\n",
        "\n",
        "# split into input and outputs\n",
        "train_X, train_y = train[:, :-1], train[:, -1]\n",
        "test_X, test_y = test[:, :-1], test[:, -1]\n",
        "\n",
        "# reshape input to be 3D [samples, timesteps, features]\n",
        "train_X = train_X.reshape((train_X.shape[0], 1, train_X.shape[1]))\n",
        "test_X = test_X.reshape((test_X.shape[0], 1, test_X.shape[1]))\n",
        "print(train_X.shape, train_y.shape, test_X.shape, test_y.shape) \n",
        "# We reshaped the input into the 3D format as expected by LSTMs, namely [samples, timesteps, features]."
      ],
      "execution_count": null,
      "outputs": [
        {
          "output_type": "stream",
          "text": [
            "(17520, 1, 8) (17520,) (17068, 1, 8) (17068,)\n"
          ],
          "name": "stdout"
        }
      ]
    },
    {
      "cell_type": "code",
      "metadata": {
        "colab": {
          "base_uri": "https://localhost:8080/"
        },
        "id": "24PsEQbgkfMj",
        "outputId": "c1588e16-d14e-4962-8b65-3e0fb7390a36"
      },
      "source": [
        "import keras\n",
        "from keras.layers import Dense\n",
        "from keras.models import Sequential\n",
        "from tensorflow.keras.utils import to_categorical\n",
        "from keras.optimizers import SGD \n",
        "from keras.callbacks import EarlyStopping\n",
        "from keras.utils import np_utils\n",
        "import itertools\n",
        "from keras.layers import LSTM\n",
        "from keras.layers.convolutional import Conv1D\n",
        "from keras.layers.convolutional import MaxPooling1D\n",
        "from keras.layers import Dropout\n",
        "\n",
        "model = Sequential()\n",
        "model.add(LSTM(100, input_shape=(train_X.shape[1], train_X.shape[2])))\n",
        "model.add(Dropout(0.2))\n",
        "#    model.add(LSTM(70))\n",
        "#    model.add(Dropout(0.3))\n",
        "model.add(Dense(1))\n",
        "model.compile(loss='mean_squared_error', optimizer='adam')\n",
        "\n",
        "\n",
        "\n",
        "# fit network\n",
        "history = model.fit(train_X, train_y, epochs=20, batch_size=32, validation_data=(test_X, test_y), verbose=2, shuffle=False)\n"
      ],
      "execution_count": null,
      "outputs": [
        {
          "output_type": "stream",
          "text": [
            "Epoch 1/20\n",
            "548/548 - 22s - loss: 0.0125 - val_loss: 0.0079\n",
            "Epoch 2/20\n",
            "548/548 - 2s - loss: 0.0099 - val_loss: 0.0078\n",
            "Epoch 3/20\n",
            "548/548 - 2s - loss: 0.0098 - val_loss: 0.0077\n",
            "Epoch 4/20\n",
            "548/548 - 2s - loss: 0.0097 - val_loss: 0.0078\n",
            "Epoch 5/20\n",
            "548/548 - 2s - loss: 0.0097 - val_loss: 0.0077\n",
            "Epoch 6/20\n",
            "548/548 - 2s - loss: 0.0097 - val_loss: 0.0078\n",
            "Epoch 7/20\n",
            "548/548 - 2s - loss: 0.0096 - val_loss: 0.0078\n",
            "Epoch 8/20\n",
            "548/548 - 2s - loss: 0.0096 - val_loss: 0.0078\n",
            "Epoch 9/20\n",
            "548/548 - 2s - loss: 0.0095 - val_loss: 0.0078\n",
            "Epoch 10/20\n",
            "548/548 - 2s - loss: 0.0095 - val_loss: 0.0077\n",
            "Epoch 11/20\n",
            "548/548 - 2s - loss: 0.0095 - val_loss: 0.0078\n",
            "Epoch 12/20\n",
            "548/548 - 2s - loss: 0.0095 - val_loss: 0.0078\n",
            "Epoch 13/20\n",
            "548/548 - 2s - loss: 0.0095 - val_loss: 0.0077\n",
            "Epoch 14/20\n",
            "548/548 - 2s - loss: 0.0095 - val_loss: 0.0078\n",
            "Epoch 15/20\n",
            "548/548 - 2s - loss: 0.0095 - val_loss: 0.0078\n",
            "Epoch 16/20\n",
            "548/548 - 2s - loss: 0.0095 - val_loss: 0.0078\n",
            "Epoch 17/20\n",
            "548/548 - 2s - loss: 0.0095 - val_loss: 0.0078\n",
            "Epoch 18/20\n",
            "548/548 - 2s - loss: 0.0095 - val_loss: 0.0078\n",
            "Epoch 19/20\n",
            "548/548 - 2s - loss: 0.0095 - val_loss: 0.0078\n",
            "Epoch 20/20\n",
            "548/548 - 2s - loss: 0.0095 - val_loss: 0.0078\n"
          ],
          "name": "stdout"
        }
      ]
    },
    {
      "cell_type": "code",
      "metadata": {
        "colab": {
          "base_uri": "https://localhost:8080/",
          "height": 350
        },
        "id": "UwQSR_BPliFh",
        "outputId": "a70754a9-dfa3-4b5a-d4cf-111cd6dad74e"
      },
      "source": [
        "import matplotlib.pyplot as plt\n",
        "\n",
        "# summarize history for loss\n",
        "plt.plot(history.history['loss'])\n",
        "plt.plot(history.history['val_loss'])\n",
        "plt.title('model loss')\n",
        "plt.ylabel('loss')\n",
        "plt.xlabel('epoch')\n",
        "plt.legend(['train', 'test'], loc='upper right')\n",
        "plt.savefig(\"IOB_loss.pdf\", bbox_inches='tight')\n",
        "\n",
        "plt.show()\n",
        "\n"
      ],
      "execution_count": null,
      "outputs": [
        {
          "output_type": "display_data",
          "data": {
            "image/png": "[encoded data removed]",
            "text/plain": [
              "<Figure size 576x360 with 1 Axes>"
            ]
          },
          "metadata": {
            "tags": [],
            "needs_background": "light"
          }
        }
      ]
    },
    {
      "cell_type": "code",
      "metadata": {
        "colab": {
          "base_uri": "https://localhost:8080/"
        },
        "id": "RBrL4LxvljRg",
        "outputId": "1d624580-0f26-40ea-dc6e-29c8f473a4a3"
      },
      "source": [
        "import numpy as np\n",
        "from sklearn.metrics import mean_squared_error,r2_score\n",
        "\n",
        "# make a prediction\n",
        "yhat = model.predict( test_X)\n",
        "test_X = test_X.reshape((test_X.shape[0], 8))\n",
        "# invert scaling for forecast\n",
        "inv_yhat = np.concatenate((yhat, test_X[:, -8:]), axis=1)\n",
        "inv_yhat = scaler.inverse_transform(inv_yhat)\n",
        "inv_yhat = inv_yhat[:,0]\n",
        "# invert scaling for actual\n",
        "test_y = test_y.reshape((len(test_y), 1))\n",
        "inv_y = np.concatenate((test_y, test_X[:, -8:]), axis=1)\n",
        "inv_y = scaler.inverse_transform(inv_y)\n",
        "inv_y = inv_y[:,0]\n",
        "# calculate RMSE\n",
        "rmse = np.sqrt(mean_squared_error(inv_y, inv_yhat))\n",
        "print('Test RMSE: %.3f' % rmse)"
      ],
      "execution_count": null,
      "outputs": [
        {
          "output_type": "stream",
          "text": [
            "Test RMSE: 34.039\n"
          ],
          "name": "stdout"
        }
      ]
    },
    {
      "cell_type": "code",
      "metadata": {
        "colab": {
          "base_uri": "https://localhost:8080/",
          "height": 284
        },
        "id": "BcMaXUFEmx8z",
        "outputId": "c3389d59-0a46-4eb8-9f39-3330e151fdf9"
      },
      "source": [
        "\n",
        "aa=[x for x in range(200)]\n",
        "plt.plot(reframed1[n_train_time:n_train_time+200].index, inv_y[:200], marker='.', label=\"actual\")\n",
        "plt.plot(reframed1[n_train_time:n_train_time+200].index, inv_yhat[:200], 'r', label=\"prediction\")\n",
        "plt.ylabel('Global_active_power', size=15)\n",
        "plt.xlabel('Time step', size=15)\n",
        "plt.legend(fontsize=15)\n",
        "plt.show()"
      ],
      "execution_count": null,
      "outputs": [
        {
          "output_type": "display_data",
          "data": {
            "image/png": "[encoded data removed]",
            "text/plain": [
              "<Figure size 432x288 with 1 Axes>"
            ]
          },
          "metadata": {
            "tags": [],
            "needs_background": "light"
          }
        }
      ]
    },
    {
      "cell_type": "code",
      "metadata": {
        "id": "tjtD8cboV7-P",
        "colab": {
          "base_uri": "https://localhost:8080/",
          "height": 422
        },
        "outputId": "95b1d099-a717-4f4d-802a-e11f10d7dd56"
      },
      "source": [
        "for_pred = reframed1[n_train_time:n_train_time+200][\"var9(t)\"].copy().reset_index()\n",
        "for_pred['Dates'] = pd.to_datetime(for_pred.dt).dt.date\n",
        "for_pred['Time'] = pd.to_datetime(for_pred.dt).dt.time\n",
        "\n",
        "for_pred['yhat']= inv_yhat[:200]\n",
        "for_pred"
      ],
      "execution_count": null,
      "outputs": [
        {
          "output_type": "execute_result",
          "data": {
            "text/html": [
              "<div>\n",
              "<style scoped>\n",
              "    .dataframe tbody tr th:only-of-type {\n",
              "        vertical-align: middle;\n",
              "    }\n",
              "\n",
              "    .dataframe tbody tr th {\n",
              "        vertical-align: top;\n",
              "    }\n",
              "\n",
              "    .dataframe thead th {\n",
              "        text-align: right;\n",
              "    }\n",
              "</style>\n",
              "<table border=\"1\" class=\"dataframe\">\n",
              "  <thead>\n",
              "    <tr style=\"text-align: right;\">\n",
              "      <th></th>\n",
              "      <th>dt</th>\n",
              "      <th>var9(t)</th>\n",
              "      <th>Dates</th>\n",
              "      <th>Time</th>\n",
              "      <th>yhat</th>\n",
              "    </tr>\n",
              "  </thead>\n",
              "  <tbody>\n",
              "    <tr>\n",
              "      <th>0</th>\n",
              "      <td>2008-12-15 18:00:00</td>\n",
              "      <td>Monday</td>\n",
              "      <td>2008-12-15</td>\n",
              "      <td>18:00:00</td>\n",
              "      <td>78.671279</td>\n",
              "    </tr>\n",
              "    <tr>\n",
              "      <th>1</th>\n",
              "      <td>2008-12-15 19:00:00</td>\n",
              "      <td>Monday</td>\n",
              "      <td>2008-12-15</td>\n",
              "      <td>19:00:00</td>\n",
              "      <td>161.720290</td>\n",
              "    </tr>\n",
              "    <tr>\n",
              "      <th>2</th>\n",
              "      <td>2008-12-15 20:00:00</td>\n",
              "      <td>Monday</td>\n",
              "      <td>2008-12-15</td>\n",
              "      <td>20:00:00</td>\n",
              "      <td>139.479076</td>\n",
              "    </tr>\n",
              "    <tr>\n",
              "      <th>3</th>\n",
              "      <td>2008-12-15 21:00:00</td>\n",
              "      <td>Monday</td>\n",
              "      <td>2008-12-15</td>\n",
              "      <td>21:00:00</td>\n",
              "      <td>137.876228</td>\n",
              "    </tr>\n",
              "    <tr>\n",
              "      <th>4</th>\n",
              "      <td>2008-12-15 22:00:00</td>\n",
              "      <td>Monday</td>\n",
              "      <td>2008-12-15</td>\n",
              "      <td>22:00:00</td>\n",
              "      <td>155.657981</td>\n",
              "    </tr>\n",
              "    <tr>\n",
              "      <th>...</th>\n",
              "      <td>...</td>\n",
              "      <td>...</td>\n",
              "      <td>...</td>\n",
              "      <td>...</td>\n",
              "      <td>...</td>\n",
              "    </tr>\n",
              "    <tr>\n",
              "      <th>195</th>\n",
              "      <td>2008-12-23 21:00:00</td>\n",
              "      <td>Tuesday</td>\n",
              "      <td>2008-12-23</td>\n",
              "      <td>21:00:00</td>\n",
              "      <td>150.809673</td>\n",
              "    </tr>\n",
              "    <tr>\n",
              "      <th>196</th>\n",
              "      <td>2008-12-23 22:00:00</td>\n",
              "      <td>Tuesday</td>\n",
              "      <td>2008-12-23</td>\n",
              "      <td>22:00:00</td>\n",
              "      <td>56.079366</td>\n",
              "    </tr>\n",
              "    <tr>\n",
              "      <th>197</th>\n",
              "      <td>2008-12-23 23:00:00</td>\n",
              "      <td>Tuesday</td>\n",
              "      <td>2008-12-23</td>\n",
              "      <td>23:00:00</td>\n",
              "      <td>44.976547</td>\n",
              "    </tr>\n",
              "    <tr>\n",
              "      <th>198</th>\n",
              "      <td>2008-12-24 00:00:00</td>\n",
              "      <td>Wednesday</td>\n",
              "      <td>2008-12-24</td>\n",
              "      <td>00:00:00</td>\n",
              "      <td>30.732591</td>\n",
              "    </tr>\n",
              "    <tr>\n",
              "      <th>199</th>\n",
              "      <td>2008-12-24 01:00:00</td>\n",
              "      <td>Wednesday</td>\n",
              "      <td>2008-12-24</td>\n",
              "      <td>01:00:00</td>\n",
              "      <td>29.866355</td>\n",
              "    </tr>\n",
              "  </tbody>\n",
              "</table>\n",
              "<p>200 rows × 5 columns</p>\n",
              "</div>"
            ],
            "text/plain": [
              "                     dt    var9(t)       Dates      Time        yhat\n",
              "0   2008-12-15 18:00:00     Monday  2008-12-15  18:00:00   78.671279\n",
              "1   2008-12-15 19:00:00     Monday  2008-12-15  19:00:00  161.720290\n",
              "2   2008-12-15 20:00:00     Monday  2008-12-15  20:00:00  139.479076\n",
              "3   2008-12-15 21:00:00     Monday  2008-12-15  21:00:00  137.876228\n",
              "4   2008-12-15 22:00:00     Monday  2008-12-15  22:00:00  155.657981\n",
              "..                  ...        ...         ...       ...         ...\n",
              "195 2008-12-23 21:00:00    Tuesday  2008-12-23  21:00:00  150.809673\n",
              "196 2008-12-23 22:00:00    Tuesday  2008-12-23  22:00:00   56.079366\n",
              "197 2008-12-23 23:00:00    Tuesday  2008-12-23  23:00:00   44.976547\n",
              "198 2008-12-24 00:00:00  Wednesday  2008-12-24  00:00:00   30.732591\n",
              "199 2008-12-24 01:00:00  Wednesday  2008-12-24  01:00:00   29.866355\n",
              "\n",
              "[200 rows x 5 columns]"
            ]
          },
          "metadata": {
            "tags": []
          },
          "execution_count": 34
        }
      ]
    },
    {
      "cell_type": "code",
      "metadata": {
        "id": "G7eGSe6EeD6r",
        "colab": {
          "base_uri": "https://localhost:8080/",
          "height": 454
        },
        "outputId": "feadbe71-7d3c-43be-eb0b-a01ec6cea986"
      },
      "source": [
        "df_resample['Dates'] = pd.to_datetime(df_resample.index).date\n",
        "df_resample['Time'] = pd.to_datetime(df_resample.index).time\n",
        "df_resample"
      ],
      "execution_count": null,
      "outputs": [
        {
          "output_type": "execute_result",
          "data": {
            "text/html": [
              "<div>\n",
              "<style scoped>\n",
              "    .dataframe tbody tr th:only-of-type {\n",
              "        vertical-align: middle;\n",
              "    }\n",
              "\n",
              "    .dataframe tbody tr th {\n",
              "        vertical-align: top;\n",
              "    }\n",
              "\n",
              "    .dataframe thead th {\n",
              "        text-align: right;\n",
              "    }\n",
              "</style>\n",
              "<table border=\"1\" class=\"dataframe\">\n",
              "  <thead>\n",
              "    <tr style=\"text-align: right;\">\n",
              "      <th></th>\n",
              "      <th>Global_active_power</th>\n",
              "      <th>Global_reactive_power</th>\n",
              "      <th>Voltage</th>\n",
              "      <th>Global_intensity</th>\n",
              "      <th>Sub_metering_1</th>\n",
              "      <th>Sub_metering_2</th>\n",
              "      <th>Sub_metering_3</th>\n",
              "      <th>sub_metering_4</th>\n",
              "      <th>day_name</th>\n",
              "      <th>Dates</th>\n",
              "      <th>Time</th>\n",
              "    </tr>\n",
              "    <tr>\n",
              "      <th>dt</th>\n",
              "      <th></th>\n",
              "      <th></th>\n",
              "      <th></th>\n",
              "      <th></th>\n",
              "      <th></th>\n",
              "      <th></th>\n",
              "      <th></th>\n",
              "      <th></th>\n",
              "      <th></th>\n",
              "      <th></th>\n",
              "      <th></th>\n",
              "    </tr>\n",
              "  </thead>\n",
              "  <tbody>\n",
              "    <tr>\n",
              "      <th>2006-12-16 17:00:00</th>\n",
              "      <td>152.024</td>\n",
              "      <td>8.244</td>\n",
              "      <td>8447.18</td>\n",
              "      <td>651.6</td>\n",
              "      <td>0.0</td>\n",
              "      <td>19.0</td>\n",
              "      <td>607.0</td>\n",
              "      <td>1907.733398</td>\n",
              "      <td>Saturday</td>\n",
              "      <td>2006-12-16</td>\n",
              "      <td>17:00:00</td>\n",
              "    </tr>\n",
              "    <tr>\n",
              "      <th>2006-12-16 18:00:00</th>\n",
              "      <td>217.932</td>\n",
              "      <td>4.802</td>\n",
              "      <td>14074.81</td>\n",
              "      <td>936.0</td>\n",
              "      <td>0.0</td>\n",
              "      <td>403.0</td>\n",
              "      <td>1012.0</td>\n",
              "      <td>2217.199951</td>\n",
              "      <td>Saturday</td>\n",
              "      <td>2006-12-16</td>\n",
              "      <td>18:00:00</td>\n",
              "    </tr>\n",
              "    <tr>\n",
              "      <th>2006-12-16 19:00:00</th>\n",
              "      <td>204.014</td>\n",
              "      <td>5.114</td>\n",
              "      <td>13993.95</td>\n",
              "      <td>870.2</td>\n",
              "      <td>0.0</td>\n",
              "      <td>86.0</td>\n",
              "      <td>1001.0</td>\n",
              "      <td>2313.233398</td>\n",
              "      <td>Saturday</td>\n",
              "      <td>2006-12-16</td>\n",
              "      <td>19:00:00</td>\n",
              "    </tr>\n",
              "    <tr>\n",
              "      <th>2006-12-16 20:00:00</th>\n",
              "      <td>196.114</td>\n",
              "      <td>4.506</td>\n",
              "      <td>14044.29</td>\n",
              "      <td>835.0</td>\n",
              "      <td>0.0</td>\n",
              "      <td>0.0</td>\n",
              "      <td>1007.0</td>\n",
              "      <td>2261.566650</td>\n",
              "      <td>Saturday</td>\n",
              "      <td>2006-12-16</td>\n",
              "      <td>20:00:00</td>\n",
              "    </tr>\n",
              "    <tr>\n",
              "      <th>2006-12-16 21:00:00</th>\n",
              "      <td>183.388</td>\n",
              "      <td>4.600</td>\n",
              "      <td>14229.52</td>\n",
              "      <td>782.8</td>\n",
              "      <td>0.0</td>\n",
              "      <td>25.0</td>\n",
              "      <td>1033.0</td>\n",
              "      <td>1998.466675</td>\n",
              "      <td>Saturday</td>\n",
              "      <td>2006-12-16</td>\n",
              "      <td>21:00:00</td>\n",
              "    </tr>\n",
              "    <tr>\n",
              "      <th>...</th>\n",
              "      <td>...</td>\n",
              "      <td>...</td>\n",
              "      <td>...</td>\n",
              "      <td>...</td>\n",
              "      <td>...</td>\n",
              "      <td>...</td>\n",
              "      <td>...</td>\n",
              "      <td>...</td>\n",
              "      <td>...</td>\n",
              "      <td>...</td>\n",
              "      <td>...</td>\n",
              "    </tr>\n",
              "    <tr>\n",
              "      <th>2010-11-26 17:00:00</th>\n",
              "      <td>103.554</td>\n",
              "      <td>3.684</td>\n",
              "      <td>14224.18</td>\n",
              "      <td>433.0</td>\n",
              "      <td>0.0</td>\n",
              "      <td>0.0</td>\n",
              "      <td>772.0</td>\n",
              "      <td>953.899963</td>\n",
              "      <td>Friday</td>\n",
              "      <td>2010-11-26</td>\n",
              "      <td>17:00:00</td>\n",
              "    </tr>\n",
              "    <tr>\n",
              "      <th>2010-11-26 18:00:00</th>\n",
              "      <td>94.408</td>\n",
              "      <td>3.222</td>\n",
              "      <td>14251.91</td>\n",
              "      <td>397.2</td>\n",
              "      <td>0.0</td>\n",
              "      <td>0.0</td>\n",
              "      <td>0.0</td>\n",
              "      <td>1573.466675</td>\n",
              "      <td>Friday</td>\n",
              "      <td>2010-11-26</td>\n",
              "      <td>18:00:00</td>\n",
              "    </tr>\n",
              "    <tr>\n",
              "      <th>2010-11-26 19:00:00</th>\n",
              "      <td>99.560</td>\n",
              "      <td>3.602</td>\n",
              "      <td>14204.46</td>\n",
              "      <td>423.4</td>\n",
              "      <td>0.0</td>\n",
              "      <td>4.0</td>\n",
              "      <td>0.0</td>\n",
              "      <td>1655.333374</td>\n",
              "      <td>Friday</td>\n",
              "      <td>2010-11-26</td>\n",
              "      <td>19:00:00</td>\n",
              "    </tr>\n",
              "    <tr>\n",
              "      <th>2010-11-26 20:00:00</th>\n",
              "      <td>69.822</td>\n",
              "      <td>3.670</td>\n",
              "      <td>14363.76</td>\n",
              "      <td>294.8</td>\n",
              "      <td>0.0</td>\n",
              "      <td>64.0</td>\n",
              "      <td>0.0</td>\n",
              "      <td>1099.699951</td>\n",
              "      <td>Friday</td>\n",
              "      <td>2010-11-26</td>\n",
              "      <td>20:00:00</td>\n",
              "    </tr>\n",
              "    <tr>\n",
              "      <th>2010-11-26 21:00:00</th>\n",
              "      <td>2.804</td>\n",
              "      <td>0.000</td>\n",
              "      <td>719.07</td>\n",
              "      <td>11.4</td>\n",
              "      <td>0.0</td>\n",
              "      <td>0.0</td>\n",
              "      <td>0.0</td>\n",
              "      <td>46.733334</td>\n",
              "      <td>Friday</td>\n",
              "      <td>2010-11-26</td>\n",
              "      <td>21:00:00</td>\n",
              "    </tr>\n",
              "  </tbody>\n",
              "</table>\n",
              "<p>34589 rows × 11 columns</p>\n",
              "</div>"
            ],
            "text/plain": [
              "                     Global_active_power  ...      Time\n",
              "dt                                        ...          \n",
              "2006-12-16 17:00:00              152.024  ...  17:00:00\n",
              "2006-12-16 18:00:00              217.932  ...  18:00:00\n",
              "2006-12-16 19:00:00              204.014  ...  19:00:00\n",
              "2006-12-16 20:00:00              196.114  ...  20:00:00\n",
              "2006-12-16 21:00:00              183.388  ...  21:00:00\n",
              "...                                  ...  ...       ...\n",
              "2010-11-26 17:00:00              103.554  ...  17:00:00\n",
              "2010-11-26 18:00:00               94.408  ...  18:00:00\n",
              "2010-11-26 19:00:00               99.560  ...  19:00:00\n",
              "2010-11-26 20:00:00               69.822  ...  20:00:00\n",
              "2010-11-26 21:00:00                2.804  ...  21:00:00\n",
              "\n",
              "[34589 rows x 11 columns]"
            ]
          },
          "metadata": {
            "tags": []
          },
          "execution_count": 35
        }
      ]
    },
    {
      "cell_type": "code",
      "metadata": {
        "colab": {
          "base_uri": "https://localhost:8080/",
          "height": 422
        },
        "id": "yoxT6yMHXsFv",
        "outputId": "639da8b1-eb94-4201-aeef-2baf76d81424"
      },
      "source": [
        "def fun(x):\n",
        "  return df_resample[(df_resample.index.hour == x[0].hour) & (df_resample.index.month == x[0].month) & (df_resample['day_name']==x[1])].Global_active_power.mean() + 34.039\n",
        "\n",
        "for_pred['hour_avg']=for_pred[['dt','var9(t)']].apply(fun,  axis=1)\n",
        "for_pred"
      ],
      "execution_count": null,
      "outputs": [
        {
          "output_type": "execute_result",
          "data": {
            "text/html": [
              "<div>\n",
              "<style scoped>\n",
              "    .dataframe tbody tr th:only-of-type {\n",
              "        vertical-align: middle;\n",
              "    }\n",
              "\n",
              "    .dataframe tbody tr th {\n",
              "        vertical-align: top;\n",
              "    }\n",
              "\n",
              "    .dataframe thead th {\n",
              "        text-align: right;\n",
              "    }\n",
              "</style>\n",
              "<table border=\"1\" class=\"dataframe\">\n",
              "  <thead>\n",
              "    <tr style=\"text-align: right;\">\n",
              "      <th></th>\n",
              "      <th>dt</th>\n",
              "      <th>var9(t)</th>\n",
              "      <th>Dates</th>\n",
              "      <th>Time</th>\n",
              "      <th>yhat</th>\n",
              "      <th>hour_avg</th>\n",
              "    </tr>\n",
              "  </thead>\n",
              "  <tbody>\n",
              "    <tr>\n",
              "      <th>0</th>\n",
              "      <td>2008-12-15 18:00:00</td>\n",
              "      <td>Monday</td>\n",
              "      <td>2008-12-15</td>\n",
              "      <td>18:00:00</td>\n",
              "      <td>78.671279</td>\n",
              "      <td>165.688250</td>\n",
              "    </tr>\n",
              "    <tr>\n",
              "      <th>1</th>\n",
              "      <td>2008-12-15 19:00:00</td>\n",
              "      <td>Monday</td>\n",
              "      <td>2008-12-15</td>\n",
              "      <td>19:00:00</td>\n",
              "      <td>161.720290</td>\n",
              "      <td>166.405250</td>\n",
              "    </tr>\n",
              "    <tr>\n",
              "      <th>2</th>\n",
              "      <td>2008-12-15 20:00:00</td>\n",
              "      <td>Monday</td>\n",
              "      <td>2008-12-15</td>\n",
              "      <td>20:00:00</td>\n",
              "      <td>139.479076</td>\n",
              "      <td>179.115250</td>\n",
              "    </tr>\n",
              "    <tr>\n",
              "      <th>3</th>\n",
              "      <td>2008-12-15 21:00:00</td>\n",
              "      <td>Monday</td>\n",
              "      <td>2008-12-15</td>\n",
              "      <td>21:00:00</td>\n",
              "      <td>137.876228</td>\n",
              "      <td>174.330500</td>\n",
              "    </tr>\n",
              "    <tr>\n",
              "      <th>4</th>\n",
              "      <td>2008-12-15 22:00:00</td>\n",
              "      <td>Monday</td>\n",
              "      <td>2008-12-15</td>\n",
              "      <td>22:00:00</td>\n",
              "      <td>155.657981</td>\n",
              "      <td>127.927476</td>\n",
              "    </tr>\n",
              "    <tr>\n",
              "      <th>...</th>\n",
              "      <td>...</td>\n",
              "      <td>...</td>\n",
              "      <td>...</td>\n",
              "      <td>...</td>\n",
              "      <td>...</td>\n",
              "      <td>...</td>\n",
              "    </tr>\n",
              "    <tr>\n",
              "      <th>195</th>\n",
              "      <td>2008-12-23 21:00:00</td>\n",
              "      <td>Tuesday</td>\n",
              "      <td>2008-12-23</td>\n",
              "      <td>21:00:00</td>\n",
              "      <td>150.809673</td>\n",
              "      <td>172.568125</td>\n",
              "    </tr>\n",
              "    <tr>\n",
              "      <th>196</th>\n",
              "      <td>2008-12-23 22:00:00</td>\n",
              "      <td>Tuesday</td>\n",
              "      <td>2008-12-23</td>\n",
              "      <td>22:00:00</td>\n",
              "      <td>56.079366</td>\n",
              "      <td>118.670000</td>\n",
              "    </tr>\n",
              "    <tr>\n",
              "      <th>197</th>\n",
              "      <td>2008-12-23 23:00:00</td>\n",
              "      <td>Tuesday</td>\n",
              "      <td>2008-12-23</td>\n",
              "      <td>23:00:00</td>\n",
              "      <td>44.976547</td>\n",
              "      <td>85.609375</td>\n",
              "    </tr>\n",
              "    <tr>\n",
              "      <th>198</th>\n",
              "      <td>2008-12-24 00:00:00</td>\n",
              "      <td>Wednesday</td>\n",
              "      <td>2008-12-24</td>\n",
              "      <td>00:00:00</td>\n",
              "      <td>30.732591</td>\n",
              "      <td>70.392500</td>\n",
              "    </tr>\n",
              "    <tr>\n",
              "      <th>199</th>\n",
              "      <td>2008-12-24 01:00:00</td>\n",
              "      <td>Wednesday</td>\n",
              "      <td>2008-12-24</td>\n",
              "      <td>01:00:00</td>\n",
              "      <td>29.866355</td>\n",
              "      <td>62.388500</td>\n",
              "    </tr>\n",
              "  </tbody>\n",
              "</table>\n",
              "<p>200 rows × 6 columns</p>\n",
              "</div>"
            ],
            "text/plain": [
              "                     dt    var9(t)  ...        yhat    hour_avg\n",
              "0   2008-12-15 18:00:00     Monday  ...   78.671279  165.688250\n",
              "1   2008-12-15 19:00:00     Monday  ...  161.720290  166.405250\n",
              "2   2008-12-15 20:00:00     Monday  ...  139.479076  179.115250\n",
              "3   2008-12-15 21:00:00     Monday  ...  137.876228  174.330500\n",
              "4   2008-12-15 22:00:00     Monday  ...  155.657981  127.927476\n",
              "..                  ...        ...  ...         ...         ...\n",
              "195 2008-12-23 21:00:00    Tuesday  ...  150.809673  172.568125\n",
              "196 2008-12-23 22:00:00    Tuesday  ...   56.079366  118.670000\n",
              "197 2008-12-23 23:00:00    Tuesday  ...   44.976547   85.609375\n",
              "198 2008-12-24 00:00:00  Wednesday  ...   30.732591   70.392500\n",
              "199 2008-12-24 01:00:00  Wednesday  ...   29.866355   62.388500\n",
              "\n",
              "[200 rows x 6 columns]"
            ]
          },
          "metadata": {
            "tags": []
          },
          "execution_count": 46
        }
      ]
    },
    {
      "cell_type": "code",
      "metadata": {
        "colab": {
          "base_uri": "https://localhost:8080/"
        },
        "id": "h5p1qw7pavBO",
        "outputId": "f86eb871-e173-4d29-86a9-df9df3828ce5"
      },
      "source": [
        "for_pred[for_pred['yhat']>for_pred['hour_avg']].count()"
      ],
      "execution_count": null,
      "outputs": [
        {
          "output_type": "execute_result",
          "data": {
            "text/plain": [
              "dt          27\n",
              "var9(t)     27\n",
              "Dates       27\n",
              "Time        27\n",
              "yhat        27\n",
              "hour_avg    27\n",
              "dtype: int64"
            ]
          },
          "metadata": {
            "tags": []
          },
          "execution_count": 47
        }
      ]
    },
    {
      "cell_type": "code",
      "metadata": {
        "colab": {
          "base_uri": "https://localhost:8080/",
          "height": 205
        },
        "id": "l0Ql2SnnUNgk",
        "outputId": "72fada21-9511-4ef7-d019-58d0b87d5b71"
      },
      "source": [
        "warning = for_pred[for_pred['yhat']>for_pred['hour_avg']].copy()\n",
        "warning['difference']= warning.yhat - warning.hour_avg\n",
        "warning.head()"
      ],
      "execution_count": null,
      "outputs": [
        {
          "output_type": "execute_result",
          "data": {
            "text/html": [
              "<div>\n",
              "<style scoped>\n",
              "    .dataframe tbody tr th:only-of-type {\n",
              "        vertical-align: middle;\n",
              "    }\n",
              "\n",
              "    .dataframe tbody tr th {\n",
              "        vertical-align: top;\n",
              "    }\n",
              "\n",
              "    .dataframe thead th {\n",
              "        text-align: right;\n",
              "    }\n",
              "</style>\n",
              "<table border=\"1\" class=\"dataframe\">\n",
              "  <thead>\n",
              "    <tr style=\"text-align: right;\">\n",
              "      <th></th>\n",
              "      <th>dt</th>\n",
              "      <th>var9(t)</th>\n",
              "      <th>Dates</th>\n",
              "      <th>Time</th>\n",
              "      <th>yhat</th>\n",
              "      <th>hour_avg</th>\n",
              "      <th>difference</th>\n",
              "    </tr>\n",
              "  </thead>\n",
              "  <tbody>\n",
              "    <tr>\n",
              "      <th>4</th>\n",
              "      <td>2008-12-15 22:00:00</td>\n",
              "      <td>Monday</td>\n",
              "      <td>2008-12-15</td>\n",
              "      <td>22:00:00</td>\n",
              "      <td>155.657981</td>\n",
              "      <td>127.927476</td>\n",
              "      <td>27.730505</td>\n",
              "    </tr>\n",
              "    <tr>\n",
              "      <th>5</th>\n",
              "      <td>2008-12-15 23:00:00</td>\n",
              "      <td>Monday</td>\n",
              "      <td>2008-12-15</td>\n",
              "      <td>23:00:00</td>\n",
              "      <td>100.854325</td>\n",
              "      <td>97.778625</td>\n",
              "      <td>3.075700</td>\n",
              "    </tr>\n",
              "    <tr>\n",
              "      <th>14</th>\n",
              "      <td>2008-12-16 08:00:00</td>\n",
              "      <td>Tuesday</td>\n",
              "      <td>2008-12-16</td>\n",
              "      <td>08:00:00</td>\n",
              "      <td>173.877862</td>\n",
              "      <td>160.510125</td>\n",
              "      <td>13.367737</td>\n",
              "    </tr>\n",
              "    <tr>\n",
              "      <th>28</th>\n",
              "      <td>2008-12-16 22:00:00</td>\n",
              "      <td>Tuesday</td>\n",
              "      <td>2008-12-16</td>\n",
              "      <td>22:00:00</td>\n",
              "      <td>130.824338</td>\n",
              "      <td>118.670000</td>\n",
              "      <td>12.154338</td>\n",
              "    </tr>\n",
              "    <tr>\n",
              "      <th>29</th>\n",
              "      <td>2008-12-16 23:00:00</td>\n",
              "      <td>Tuesday</td>\n",
              "      <td>2008-12-16</td>\n",
              "      <td>23:00:00</td>\n",
              "      <td>88.696322</td>\n",
              "      <td>85.609375</td>\n",
              "      <td>3.086947</td>\n",
              "    </tr>\n",
              "  </tbody>\n",
              "</table>\n",
              "</div>"
            ],
            "text/plain": [
              "                    dt  var9(t)       Dates  ...        yhat    hour_avg  difference\n",
              "4  2008-12-15 22:00:00   Monday  2008-12-15  ...  155.657981  127.927476   27.730505\n",
              "5  2008-12-15 23:00:00   Monday  2008-12-15  ...  100.854325   97.778625    3.075700\n",
              "14 2008-12-16 08:00:00  Tuesday  2008-12-16  ...  173.877862  160.510125   13.367737\n",
              "28 2008-12-16 22:00:00  Tuesday  2008-12-16  ...  130.824338  118.670000   12.154338\n",
              "29 2008-12-16 23:00:00  Tuesday  2008-12-16  ...   88.696322   85.609375    3.086947\n",
              "\n",
              "[5 rows x 7 columns]"
            ]
          },
          "metadata": {
            "tags": []
          },
          "execution_count": 48
        }
      ]
    },
    {
      "cell_type": "code",
      "metadata": {
        "colab": {
          "base_uri": "https://localhost:8080/",
          "height": 358
        },
        "id": "_22IueREqn5c",
        "outputId": "5f875062-a764-432f-c8e3-c56173074c28"
      },
      "source": [
        "from pylab import rcParams\n",
        "rcParams['figure.figsize'] =8, 5\n",
        "\n",
        "aa=[x for x in range(200)]\n",
        "plt.plot(reframed1[n_train_time:n_train_time+200].index, inv_y[:200], marker='.',color='b', label=\"Actual\")\n",
        "plt.plot(reframed1[n_train_time:n_train_time+200].index, inv_yhat[:200], color='red', label=\"Prediction\")\n",
        "plt.plot(warning.dt, warning.yhat,'s',color='green')\n",
        "plt.plot(warning.dt, warning.hour_avg,'*',color='yellow', label=\"avg\")\n",
        "\n",
        "plt.xticks(rotation=45)\n",
        "\n",
        "plt.ylabel('Global Active Power', size=12)\n",
        "#plt.xlabel('Time step', size=15)\n",
        "plt.legend(fontsize=11)\n",
        "plt.savefig(\"actual_vs_prediction.pdf\", bbox_inches='tight')\n",
        "plt.show()"
      ],
      "execution_count": null,
      "outputs": [
        {
          "output_type": "display_data",
          "data": {
            "image/png": "[encoded data removed]",
            "text/plain": [
              "<Figure size 576x360 with 1 Axes>"
            ]
          },
          "metadata": {
            "tags": [],
            "needs_background": "light"
          }
        }
      ]
    },
    {
      "cell_type": "code",
      "metadata": {
        "colab": {
          "base_uri": "https://localhost:8080/",
          "height": 358
        },
        "id": "z-nFjOl6wGmB",
        "outputId": "f2c59e54-f204-4c5d-b846-feb9f0591f87"
      },
      "source": [
        "from pylab import rcParams\n",
        "rcParams['figure.figsize'] =8, 5\n",
        "\n",
        "aa=[x for x in range(200)]\n",
        "#plt.plot(reframed1[n_train_time:n_train_time+200].index, inv_y[:200], marker='.',color='b', label=\"actual\")\n",
        "plt.plot(reframed1[n_train_time:n_train_time+200].index, inv_yhat[:200], color='darkgreen', label=\"Prediction\")\n",
        "plt.plot(warning.dt, warning.yhat,'s',color='red', label=\"Warning\")\n",
        "plt.plot(warning.dt, warning.hour_avg,'*',color='blue', label=\"avg\")\n",
        "\n",
        "plt.xticks(rotation=45)\n",
        "\n",
        "plt.ylabel('Global Active Power', size=12)\n",
        "#plt.xlabel('Time step', size=15)\n",
        "plt.legend(fontsize=11)\n",
        "plt.savefig(\"warning.pdf\", bbox_inches='tight')\n",
        "\n",
        "plt.show()"
      ],
      "execution_count": null,
      "outputs": [
        {
          "output_type": "display_data",
          "data": {
            "image/png": "[encoded data removed]",
            "text/plain": [
              "<Figure size 576x360 with 1 Axes>"
            ]
          },
          "metadata": {
            "tags": [],
            "needs_background": "light"
          }
        }
      ]
    },
    {
      "cell_type": "code",
      "metadata": {
        "colab": {
          "base_uri": "https://localhost:8080/"
        },
        "id": "4A1bu6hkUoYJ",
        "outputId": "2bb6c252-c12a-4185-a026-c6082ba07b9b"
      },
      "source": [
        "warning.difference.sum()"
      ],
      "execution_count": null,
      "outputs": [
        {
          "output_type": "execute_result",
          "data": {
            "text/plain": [
              "522.2080854436634"
            ]
          },
          "metadata": {
            "tags": []
          },
          "execution_count": 51
        }
      ]
    },
    {
      "cell_type": "code",
      "metadata": {
        "colab": {
          "base_uri": "https://localhost:8080/"
        },
        "id": "vTFYaHatWDNw",
        "outputId": "98e08f81-7882-48ac-a1d6-4b4275be516a"
      },
      "source": [
        "0.182\t* 522.2080854436634"
      ],
      "execution_count": null,
      "outputs": [
        {
          "output_type": "execute_result",
          "data": {
            "text/plain": [
              "95.04187155074675"
            ]
          },
          "metadata": {
            "tags": []
          },
          "execution_count": 52
        }
      ]
    },
    {
      "cell_type": "code",
      "metadata": {
        "colab": {
          "base_uri": "https://localhost:8080/",
          "height": 337
        },
        "id": "UB0W0arA5q-o",
        "outputId": "908136d0-86f6-467d-cba2-6972bb3010dc"
      },
      "source": [
        "plt.matshow(df_resample.resample('H').mean().corr(method='spearman'),vmax=1,vmin=-1,cmap='PRGn')\n",
        "plt.title('resampled over month', size=15)\n",
        "plt.colorbar()\n",
        "plt.margins(0.02)\n",
        "plt.show"
      ],
      "execution_count": null,
      "outputs": [
        {
          "output_type": "execute_result",
          "data": {
            "text/plain": [
              "<function matplotlib.pyplot.show>"
            ]
          },
          "metadata": {
            "tags": []
          },
          "execution_count": 53
        },
        {
          "output_type": "display_data",
          "data": {
            "image/png": "[encoded data removed]",
            "text/plain": [
              "<Figure size 360x360 with 2 Axes>"
            ]
          },
          "metadata": {
            "tags": [],
            "needs_background": "light"
          }
        }
      ]
    },
    {
      "cell_type": "code",
      "metadata": {
        "colab": {
          "base_uri": "https://localhost:8080/"
        },
        "id": "wgnkOIh9_mkA",
        "outputId": "9ccad86d-e3d9-4ac9-e4d1-7c1ae03941fe"
      },
      "source": [
        "df['Global_active_power'].corr(df['Global_intensity'])\n"
      ],
      "execution_count": null,
      "outputs": [
        {
          "output_type": "execute_result",
          "data": {
            "text/plain": [
              "0.9988886002095857"
            ]
          },
          "metadata": {
            "tags": []
          },
          "execution_count": 54
        }
      ]
    }
  ]
}